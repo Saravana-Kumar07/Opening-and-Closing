{
 "cells": [
  {
   "cell_type": "code",
   "execution_count": null,
   "metadata": {},
   "outputs": [],
   "source": [
    "# Import the necessary packages\n",
    "import cv2\n",
    "import numpy as np\n",
    "from matplotlib import pyplot as plt"
   ]
  },
  {
   "cell_type": "code",
   "execution_count": null,
   "metadata": {},
   "outputs": [],
   "source": [
    "# Create the Text using cv2.putText\n",
    "img1=np.zeros((100,500),dtype='uint8')\n",
    "font=cv2.FONT_HERSHEY_COMPLEX\n",
    "im=cv2.putText(img1,'Saravana K',(7,70),font,2,(255),4,cv2.LINE_AA)\n",
    "plt.imshow(im)"
   ]
  },
  {
   "cell_type": "code",
   "execution_count": null,
   "metadata": {},
   "outputs": [],
   "source": [
    "# Create the structuring element\n",
    "Kernel=cv2.getStructuringElement(cv2.MORPH_ELLIPSE,(10,10))"
   ]
  },
  {
   "cell_type": "code",
   "execution_count": null,
   "metadata": {},
   "outputs": [],
   "source": [
    "# Use the Opening Operation\n",
    "image1=cv2.morphologyEx(im,cv2.MORPH_OPEN,Kernel)\n",
    "plt.imshow(image1)\n"
   ]
  },
  {
   "cell_type": "code",
   "execution_count": null,
   "metadata": {},
   "outputs": [],
   "source": [
    "# Use the Closing Operation\n",
    "image1=cv2.morphologyEx(im,cv2.MORPH_CLOSE,Kernel)\n",
    "plt.imshow(image1)\n"
   ]
  }
 ],
 "metadata": {
  "kernelspec": {
   "display_name": "Python 3 (ipykernel)",
   "language": "python",
   "name": "python3"
  },
  "language_info": {
   "codemirror_mode": {
    "name": "ipython",
    "version": 3
   },
   "file_extension": ".py",
   "mimetype": "text/x-python",
   "name": "python",
   "nbconvert_exporter": "python",
   "pygments_lexer": "ipython3",
   "version": "3.8.12"
  }
 },
 "nbformat": 4,
 "nbformat_minor": 2
}
